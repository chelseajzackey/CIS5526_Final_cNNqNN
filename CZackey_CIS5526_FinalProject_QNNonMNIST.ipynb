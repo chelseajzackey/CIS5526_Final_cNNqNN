{
 "cells": [
  {
   "cell_type": "markdown",
   "metadata": {},
   "source": [
    "Chelsea Zackey\n",
    "<br>CIS 5526: Final Project\n",
    "\n",
    "## Classifying MNIST Data via Quantum Neural Network\n",
    "\n",
    "This program aims to reproduce the original results of the tutorial given by TensorFlow Quantum: https://www.tensorflow.org/quantum/tutorials/mnist"
   ]
  },
  {
   "cell_type": "code",
   "execution_count": 1,
   "metadata": {},
   "outputs": [],
   "source": [
    "#import packages\n",
    "import tensorflow as tf\n",
    "import tensorflow_quantum as tfq\n",
    "\n",
    "import cirq\n",
    "import sympy\n",
    "import numpy as np\n",
    "import seaborn as sns\n",
    "import collections\n",
    "import keras\n",
    "import math\n",
    "\n",
    "%matplotlib inline\n",
    "import matplotlib.pyplot as plt\n",
    "from cirq.contrib.svg import SVGCircuit\n",
    "from keras.datasets import mnist"
   ]
  },
  {
   "cell_type": "code",
   "execution_count": 2,
   "metadata": {},
   "outputs": [],
   "source": [
    "# Methods for EDA & data preprocessing\n",
    "\n",
    "# define method to filter data for binary classification problem using '3' and '6' examples only\n",
    "def filter36(x, y):\n",
    "# Method that accepts dataset x with labels y and returns the pair (x, y) comprising only the\n",
    "# data points with labels y == 3 or y == 6. Also converts labels in y to boolean value: y == 3 evaluates\n",
    "# to True, and y == 6 evaluates to False\n",
    "    sieve = (y == 3) | (y == 6)\n",
    "    x, y = x[sieve], y[sieve] # use boolean indexing to filter examples \n",
    "    y = (y == 3) # convert y to boolean label\n",
    "    return x, y\n",
    "\n",
    "#define method for removing \"contradictory\" examples belonging to both classes\n",
    "def rm_contradictions(x, y):\n",
    "# Given data x with binary labels y, return (x, y) with examples belonging to both classes comprising y\n",
    "    m = collections.defaultdict(set) # create dictionary of sets\n",
    "    \n",
    "    for xx, yy in zip(x, y): # iterate through data set x with labels y\n",
    "        m[tuple(xx.flatten())].add(yy) # add dict item with key given by data point xx and value given by yy\n",
    "    \n",
    "    # initialize return values (data points with unique labels; ie belonging to '3' XOR '6')\n",
    "    new_x = []\n",
    "    new_y = []\n",
    "    \n",
    "    # begin filtering unique examples xx with label yy satisfying: yy == 3 XOR yy == 6\n",
    "    for xx, yy in zip(x, y):\n",
    "        labels = m[tuple(xx.flatten())] # retrieve values associated with key\n",
    "        if len(labels) == 1:\n",
    "           # example xx belongs to single class; keep example & label pair\n",
    "            new_x.append(xx)\n",
    "            new_y.append(labels.pop())\n",
    "        else:\n",
    "            # example xx belongs to both classes; ignore contradictory example\n",
    "            pass\n",
    "    # find total remaining examples per each class: label True for '3' and False for '6' (not '3')\n",
    "    num3s = sum(1 for yy in new_y if yy == True) # Fixed method from tutorial -CZ\n",
    "    num6s = sum(1 for yy in new_y if yy == False) # Fixed method from tutorial -CZ\n",
    "    num_contradictions = sum(1 for value in m.values() if len(value) == 2)\n",
    "    \n",
    "    print(\"\\n==================== FILTERING OUT CONTRADICTORY EXAMPLES ====================\")\n",
    "    print(\"\\nInitial number of 3-6 training examples: \", len(x))\n",
    "    print(\"Remaining non-contradictory 3-6 training examples: \", len(new_x))\n",
    "    print(\"Number of 3s: \", num3s)\n",
    "    print(\"Number of 6s: \", num6s)\n",
    "    print(\"Number of contradictory images removed from training set: \", num_contradictions)\n",
    "    \n",
    "    return np.array(new_x), np.array(new_y)"
   ]
  },
  {
   "cell_type": "code",
   "execution_count": 3,
   "metadata": {},
   "outputs": [
    {
     "name": "stdout",
     "output_type": "stream",
     "text": [
      "Total initial training examples: 60000\n",
      "Total initial test examples: 10000\n",
      "\n",
      "==================== FILTERING OUT NON-\"3\"-\"6\" EXAMPLES ====================\n",
      "\n",
      "Total filtered 3-6 training examples: 12049\n",
      "Total filtered 3-6 test examples: 1968\n",
      "\n",
      "\n",
      "Image for first training example: \n"
     ]
    },
    {
     "data": {
      "image/png": "[encoded data removed]",
      "text/plain": [
       "<Figure size 432x288 with 2 Axes>"
      ]
     },
     "metadata": {
      "needs_background": "light"
     },
     "output_type": "display_data"
    },
    {
     "name": "stdout",
     "output_type": "stream",
     "text": [
      "\n",
      "\n",
      "Rescaled image for first training example: \n"
     ]
    },
    {
     "data": {
      "image/png": "[encoded data removed]",
      "text/plain": [
       "<Figure size 432x288 with 2 Axes>"
      ]
     },
     "metadata": {
      "needs_background": "light"
     },
     "output_type": "display_data"
    },
    {
     "name": "stdout",
     "output_type": "stream",
     "text": [
      "\n",
      "==================== FILTERING OUT CONTRADICTORY EXAMPLES ====================\n",
      "\n",
      "Initial number of 3-6 training examples:  12049\n",
      "Remaining non-contradictory 3-6 training examples:  10338\n",
      "Number of 3s:  4912\n",
      "Number of 6s:  5426\n",
      "Number of contradictory images removed from training set:  49\n"
     ]
    }
   ],
   "source": [
    "# EDA & Data preprocessing for MNIST 3-6 Binary Classification\n",
    "\n",
    "# Load data\n",
    "(x_train, y_train), (x_test, y_test) = tf.keras.datasets.mnist.load_data()\n",
    "print(\"Total initial training examples:\", len(x_train))\n",
    "print(\"Total initial test examples:\", len(x_test))\n",
    "\n",
    "#rescale images to range [0.0, 1.0]\n",
    "x_train, x_test = x_train[..., np.newaxis]/255.0, x_test[..., np.newaxis]/255.0\n",
    "\n",
    "\n",
    "# filter data\n",
    "x_train, y_train = filter36(x_train, y_train)\n",
    "x_test, y_test = filter36(x_test, y_test)\n",
    "print(\"\\n==================== FILTERING OUT NON-\\\"3\\\"-\\\"6\\\" EXAMPLES ====================\")\n",
    "print(\"\\nTotal filtered 3-6 training examples:\", len(x_train))\n",
    "print(\"Total filtered 3-6 test examples:\", len(x_test))\n",
    "\n",
    "print(\"\\n\\nImage for first training example: \")\n",
    "plt.imshow(x_train[0, :, :, 0])\n",
    "plt.colorbar()\n",
    "plt.show()\n",
    "\n",
    "# resize images to 4x4 scale for quantum computers\n",
    "x_train_small = tf.image.resize(x_train, (4,4)).numpy()\n",
    "x_test_small = tf.image.resize(x_test, (4,4)).numpy()\n",
    "print(\"\\n\\nRescaled image for first training example: \")\n",
    "plt.imshow(x_train_small[0, :, :, 0])\n",
    "plt.colorbar()\n",
    "plt.show()\n",
    "\n",
    "\n",
    "# remove contradictory examples (x, y): for all x, y, we have y == 3 XOR y == 6\n",
    "x_train_rmcon, y_train_rmcon = rm_contradictions(x_train_small, y_train)"
   ]
  },
  {
   "cell_type": "code",
   "execution_count": 4,
   "metadata": {},
   "outputs": [],
   "source": [
    "# Define methods for encoding data as quantum circuits\n",
    "\n",
    "def to_circuit(image):\n",
    "# Converts data given by image to quantum circuit (qubit) representation\n",
    "    vals = np.ndarray.flatten(image) # values for each pixel in image as 1D array\n",
    "    qbits = cirq.GridQubit.rect(4, 4) # initialize qubits residing in 4x4 dimensional grid (matrix)\n",
    "    circ = cirq.Circuit() # return circuit comprising qubits and all operations performed on them\n",
    "    for i, val in enumerate(vals):\n",
    "        if val: # evaluates to true for nonzero values (assuming pixel values below threshold have been ignored)\n",
    "            # rotate pixel exceeding threshold by pauli X gate\n",
    "            circ.append(cirq.X(qbits[i])) # add rotated qbit representing pixel i to circ\n",
    "    return circ\n",
    "\n",
    "# Encode MNIST image data with qubits for quantum processors\n",
    "\n",
    "thresh = 0.5 # threshold value used for binary (qubit) encoding of pixels \n",
    "\n",
    "# Convert pixels for x_train and x_test to binary values simulating qubits\n",
    "x_train_bin = np.array(x_train_rmcon > thresh, dtype = np.float32)\n",
    "x_test_bin = np.array(x_test_small > thresh, dtype=np.float32)\n",
    "\n",
    "# \"qubits\" representing pixels with values above certain threshold will be rotated by \n",
    "# quantum X gate for (quantum) data preprocessing\n",
    "x_train_circ = [to_circuit(x) for x in x_train_bin] # circuit representation of (binary) training set\n",
    "x_test_circ = [to_circuit(x) for x in x_test_bin] # circuit representation of (binary) testing set\n",
    "\n",
    "# TEST: display visuals for circuit representation of first training example\n",
    "SVGCircuit(x_train_circ[0]) # displays grid coordinates of pixels rotated by X gate (pixels with values exceeding threshold)\n",
    "\n",
    "# convert to tensors for TensorFlow Quantum package\n",
    "x_train_tfq = tfq.convert_to_tensor(x_train_circ)\n",
    "x_test_tfq = tfq.convert_to_tensor(x_test_circ)"
   ]
  },
  {
   "cell_type": "code",
   "execution_count": 5,
   "metadata": {},
   "outputs": [
    {
     "name": "stdout",
     "output_type": "stream",
     "text": [
      "\n",
      "==================== DISPLAYING DEMO qNN LAYER CIRCUIT  ====================\n"
     ]
    },
    {
     "data": {
      "image/svg+xml": [
       "<svg xmlns=\"http://www.w3.org/2000/svg\" width=\"494.32281250000005\" height=\"250.0\"><line x1=\"36.90890625\" x2=\"464.32281250000005\" y1=\"25.0\" y2=\"25.0\" stroke=\"#1967d2\" stroke-width=\"1\" /><line x1=\"36.90890625\" x2=\"464.32281250000005\" y1=\"75.0\" y2=\"75.0\" stroke=\"#1967d2\" stroke-width=\"1\" /><line x1=\"36.90890625\" x2=\"464.32281250000005\" y1=\"125.0\" y2=\"125.0\" stroke=\"#1967d2\" stroke-width=\"1\" /><line x1=\"36.90890625\" x2=\"464.32281250000005\" y1=\"175.0\" y2=\"175.0\" stroke=\"#1967d2\" stroke-width=\"1\" /><line x1=\"36.90890625\" x2=\"464.32281250000005\" y1=\"225.0\" y2=\"225.0\" stroke=\"#1967d2\" stroke-width=\"1\" /><line x1=\"121.3809375\" x2=\"121.3809375\" y1=\"25.0\" y2=\"75.0\" stroke=\"black\" stroke-width=\"3\" /><line x1=\"216.5071875\" x2=\"216.5071875\" y1=\"25.0\" y2=\"125.0\" stroke=\"black\" stroke-width=\"3\" /><line x1=\"311.6334375\" x2=\"311.6334375\" y1=\"25.0\" y2=\"175.0\" stroke=\"black\" stroke-width=\"3\" /><line x1=\"406.75968750000004\" x2=\"406.75968750000004\" y1=\"25.0\" y2=\"225.0\" stroke=\"black\" stroke-width=\"3\" /><rect x=\"10.0\" y=\"5.0\" width=\"53.8178125\" height=\"40\" stroke=\"black\" fill=\"white\" stroke-width=\"0\" /><text x=\"36.90890625\" y=\"25.0\" dominant-baseline=\"middle\" text-anchor=\"middle\" font-size=\"14px\" font-family=\"Arial\">(-1, -1): </text><rect x=\"10.0\" y=\"55.0\" width=\"53.8178125\" height=\"40\" stroke=\"black\" fill=\"white\" stroke-width=\"0\" /><text x=\"36.90890625\" y=\"75.0\" dominant-baseline=\"middle\" text-anchor=\"middle\" font-size=\"14px\" font-family=\"Arial\">(0, 0): </text><rect x=\"10.0\" y=\"105.0\" width=\"53.8178125\" height=\"40\" stroke=\"black\" fill=\"white\" stroke-width=\"0\" /><text x=\"36.90890625\" y=\"125.0\" dominant-baseline=\"middle\" text-anchor=\"middle\" font-size=\"14px\" font-family=\"Arial\">(1, 0): </text><rect x=\"10.0\" y=\"155.0\" width=\"53.8178125\" height=\"40\" stroke=\"black\" fill=\"white\" stroke-width=\"0\" /><text x=\"36.90890625\" y=\"175.0\" dominant-baseline=\"middle\" text-anchor=\"middle\" font-size=\"14px\" font-family=\"Arial\">(2, 0): </text><rect x=\"10.0\" y=\"205.0\" width=\"53.8178125\" height=\"40\" stroke=\"black\" fill=\"white\" stroke-width=\"0\" /><text x=\"36.90890625\" y=\"225.0\" dominant-baseline=\"middle\" text-anchor=\"middle\" font-size=\"14px\" font-family=\"Arial\">(3, 0): </text><rect x=\"83.8178125\" y=\"55.0\" width=\"75.12625\" height=\"40\" stroke=\"black\" fill=\"white\" stroke-width=\"1\" /><text x=\"121.3809375\" y=\"75.0\" dominant-baseline=\"middle\" text-anchor=\"middle\" font-size=\"14px\" font-family=\"Arial\">XX^(XX-0)</text><rect x=\"83.8178125\" y=\"5.0\" width=\"75.12625\" height=\"40\" stroke=\"black\" fill=\"white\" stroke-width=\"1\" /><text x=\"121.3809375\" y=\"25.0\" dominant-baseline=\"middle\" text-anchor=\"middle\" font-size=\"14px\" font-family=\"Arial\">XX</text><rect x=\"178.94406249999997\" y=\"105.0\" width=\"75.12625\" height=\"40\" stroke=\"black\" fill=\"white\" stroke-width=\"1\" /><text x=\"216.5071875\" y=\"125.0\" dominant-baseline=\"middle\" text-anchor=\"middle\" font-size=\"14px\" font-family=\"Arial\">XX^(XX-1)</text><rect x=\"178.94406249999997\" y=\"5.0\" width=\"75.12625\" height=\"40\" stroke=\"black\" fill=\"white\" stroke-width=\"1\" /><text x=\"216.5071875\" y=\"25.0\" dominant-baseline=\"middle\" text-anchor=\"middle\" font-size=\"14px\" font-family=\"Arial\">XX</text><rect x=\"274.0703125\" y=\"155.0\" width=\"75.12625\" height=\"40\" stroke=\"black\" fill=\"white\" stroke-width=\"1\" /><text x=\"311.6334375\" y=\"175.0\" dominant-baseline=\"middle\" text-anchor=\"middle\" font-size=\"14px\" font-family=\"Arial\">XX^(XX-2)</text><rect x=\"274.0703125\" y=\"5.0\" width=\"75.12625\" height=\"40\" stroke=\"black\" fill=\"white\" stroke-width=\"1\" /><text x=\"311.6334375\" y=\"25.0\" dominant-baseline=\"middle\" text-anchor=\"middle\" font-size=\"14px\" font-family=\"Arial\">XX</text><rect x=\"369.1965625\" y=\"205.0\" width=\"75.12625\" height=\"40\" stroke=\"black\" fill=\"white\" stroke-width=\"1\" /><text x=\"406.75968750000004\" y=\"225.0\" dominant-baseline=\"middle\" text-anchor=\"middle\" font-size=\"14px\" font-family=\"Arial\">XX^(XX-3)</text><rect x=\"369.1965625\" y=\"5.0\" width=\"75.12625\" height=\"40\" stroke=\"black\" fill=\"white\" stroke-width=\"1\" /><text x=\"406.75968750000004\" y=\"25.0\" dominant-baseline=\"middle\" text-anchor=\"middle\" font-size=\"14px\" font-family=\"Arial\">XX</text></svg>"
      ],
      "text/plain": [
       "<cirq.contrib.svg.svg.SVGCircuit at 0x7f8dd240ac18>"
      ]
     },
     "execution_count": 5,
     "metadata": {},
     "output_type": "execute_result"
    }
   ],
   "source": [
    "# Defining Quantum Neural Network (qNN) architecture\n",
    "\n",
    "class CircLayerBuilder():\n",
    "# Define class that adds a layer comprising n instances of the same quantum gate to a given circuit.\n",
    "# In each such layer, each data qubit acts on the readout qubit\n",
    "    \n",
    "    def __init__(self, data_qbits, readout_qbit):\n",
    "    # Constructor method\n",
    "        self.data_qbits = data_qbits\n",
    "        self.readout_qbit = readout_qbit\n",
    "        \n",
    "    def add_layer(self, circ, gate, prefix):\n",
    "    # Given caller object (self) with n data qubits, adds a layer of n quantum gates specified \n",
    "    # by 'gate' acting on all i = 1, 2, ..., n qubits in self.data_qbits to circuit specified by \n",
    "    # 'circ', each gate being labeled with prefix specified by 'prefix'\n",
    "    \n",
    "    # i.e., this layer applies binary operation specified by gate acting on readout qbit and each individual data qbit\n",
    "        for i, qbit in enumerate(self.data_qbits):\n",
    "            label = sympy.Symbol(prefix + '-' + str(i))\n",
    "            circ.append(gate(qbit, self.readout_qbit)**label)\n",
    "            \n",
    "# Demo methods from CircLayerBuilder class\n",
    "demo_build = CircLayerBuilder(data_qbits = cirq.GridQubit.rect(4, 1), readout_qbit = cirq.GridQubit(-1, -1))\n",
    "circuit = cirq.Circuit()\n",
    "demo_build.add_layer(circuit, gate = cirq.XX, prefix='XX')\n",
    "# Display demo circuit\n",
    "print(\"\\n==================== DISPLAYING DEMO qNN LAYER CIRCUIT  ====================\")\n",
    "SVGCircuit(circuit)"
   ]
  },
  {
   "cell_type": "code",
   "execution_count": 6,
   "metadata": {},
   "outputs": [
    {
     "name": "stdout",
     "output_type": "stream",
     "text": [
      "\n",
      "==================== DISPLAYING qNN MODEL CIRCUIT  ====================\n"
     ]
    },
    {
     "data": {
      "image/svg+xml": [
       "<svg xmlns=\"http://www.w3.org/2000/svg\" width=\"3626.6045312499978\" height=\"850.0\"><line x1=\"36.90890625\" x2=\"3596.6045312499978\" y1=\"25.0\" y2=\"25.0\" stroke=\"#1967d2\" stroke-width=\"1\" /><line x1=\"36.90890625\" x2=\"3596.6045312499978\" y1=\"75.0\" y2=\"75.0\" stroke=\"#1967d2\" stroke-width=\"1\" /><line x1=\"36.90890625\" x2=\"3596.6045312499978\" y1=\"125.0\" y2=\"125.0\" stroke=\"#1967d2\" stroke-width=\"1\" /><line x1=\"36.90890625\" x2=\"3596.6045312499978\" y1=\"175.0\" y2=\"175.0\" stroke=\"#1967d2\" stroke-width=\"1\" /><line x1=\"36.90890625\" x2=\"3596.6045312499978\" y1=\"225.0\" y2=\"225.0\" stroke=\"#1967d2\" stroke-width=\"1\" /><line x1=\"36.90890625\" x2=\"3596.6045312499978\" y1=\"275.0\" y2=\"275.0\" stroke=\"#1967d2\" stroke-width=\"1\" /><line x1=\"36.90890625\" x2=\"3596.6045312499978\" y1=\"325.0\" y2=\"325.0\" stroke=\"#1967d2\" stroke-width=\"1\" /><line x1=\"36.90890625\" x2=\"3596.6045312499978\" y1=\"375.0\" y2=\"375.0\" stroke=\"#1967d2\" stroke-width=\"1\" /><line x1=\"36.90890625\" x2=\"3596.6045312499978\" y1=\"425.0\" y2=\"425.0\" stroke=\"#1967d2\" stroke-width=\"1\" /><line x1=\"36.90890625\" x2=\"3596.6045312499978\" y1=\"475.0\" y2=\"475.0\" stroke=\"#1967d2\" stroke-width=\"1\" /><line x1=\"36.90890625\" x2=\"3596.6045312499978\" y1=\"525.0\" y2=\"525.0\" stroke=\"#1967d2\" stroke-width=\"1\" /><line x1=\"36.90890625\" x2=\"3596.6045312499978\" y1=\"575.0\" y2=\"575.0\" stroke=\"#1967d2\" stroke-width=\"1\" /><line x1=\"36.90890625\" x2=\"3596.6045312499978\" y1=\"625.0\" y2=\"625.0\" stroke=\"#1967d2\" stroke-width=\"1\" /><line x1=\"36.90890625\" x2=\"3596.6045312499978\" y1=\"675.0\" y2=\"675.0\" stroke=\"#1967d2\" stroke-width=\"1\" /><line x1=\"36.90890625\" x2=\"3596.6045312499978\" y1=\"725.0\" y2=\"725.0\" stroke=\"#1967d2\" stroke-width=\"1\" /><line x1=\"36.90890625\" x2=\"3596.6045312499978\" y1=\"775.0\" y2=\"775.0\" stroke=\"#1967d2\" stroke-width=\"1\" /><line x1=\"36.90890625\" x2=\"3596.6045312499978\" y1=\"825.0\" y2=\"825.0\" stroke=\"#1967d2\" stroke-width=\"1\" /><line x1=\"245.27400390625002\" x2=\"245.27400390625002\" y1=\"25.0\" y2=\"75.0\" stroke=\"black\" stroke-width=\"3\" /><line x1=\"348.18638671875\" x2=\"348.18638671875\" y1=\"25.0\" y2=\"125.0\" stroke=\"black\" stroke-width=\"3\" /><line x1=\"451.09876953125\" x2=\"451.09876953125\" y1=\"25.0\" y2=\"175.0\" stroke=\"black\" stroke-width=\"3\" /><line x1=\"554.01115234375\" x2=\"554.01115234375\" y1=\"25.0\" y2=\"225.0\" stroke=\"black\" stroke-width=\"3\" /><line x1=\"656.9235351562501\" x2=\"656.9235351562501\" y1=\"25.0\" y2=\"275.0\" stroke=\"black\" stroke-width=\"3\" /><line x1=\"759.8359179687501\" x2=\"759.8359179687501\" y1=\"25.0\" y2=\"325.0\" stroke=\"black\" stroke-width=\"3\" /><line x1=\"862.7483007812501\" x2=\"862.7483007812501\" y1=\"25.0\" y2=\"375.0\" stroke=\"black\" stroke-width=\"3\" /><line x1=\"965.6606835937502\" x2=\"965.6606835937502\" y1=\"25.0\" y2=\"425.0\" stroke=\"black\" stroke-width=\"3\" /><line x1=\"1068.57306640625\" x2=\"1068.57306640625\" y1=\"25.0\" y2=\"475.0\" stroke=\"black\" stroke-width=\"3\" /><line x1=\"1171.48544921875\" x2=\"1171.48544921875\" y1=\"25.0\" y2=\"525.0\" stroke=\"black\" stroke-width=\"3\" /><line x1=\"1278.2908984375001\" x2=\"1278.2908984375001\" y1=\"25.0\" y2=\"575.0\" stroke=\"black\" stroke-width=\"3\" /><line x1=\"1388.9817578125003\" x2=\"1388.9817578125003\" y1=\"25.0\" y2=\"625.0\" stroke=\"black\" stroke-width=\"3\" /><line x1=\"1499.6726171875002\" x2=\"1499.6726171875002\" y1=\"25.0\" y2=\"675.0\" stroke=\"black\" stroke-width=\"3\" /><line x1=\"1610.3711328125003\" x2=\"1610.3711328125003\" y1=\"25.0\" y2=\"725.0\" stroke=\"black\" stroke-width=\"3\" /><line x1=\"1721.0696484375003\" x2=\"1721.0696484375003\" y1=\"25.0\" y2=\"775.0\" stroke=\"black\" stroke-width=\"3\" /><line x1=\"1831.7681640625003\" x2=\"1831.7681640625003\" y1=\"25.0\" y2=\"825.0\" stroke=\"black\" stroke-width=\"3\" /><line x1=\"1936.8919726562503\" x2=\"1936.8919726562503\" y1=\"25.0\" y2=\"75.0\" stroke=\"black\" stroke-width=\"3\" /><line x1=\"2036.4410742187504\" x2=\"2036.4410742187504\" y1=\"25.0\" y2=\"125.0\" stroke=\"black\" stroke-width=\"3\" /><line x1=\"2135.9901757812504\" x2=\"2135.9901757812504\" y1=\"25.0\" y2=\"175.0\" stroke=\"black\" stroke-width=\"3\" /><line x1=\"2235.53927734375\" x2=\"2235.53927734375\" y1=\"25.0\" y2=\"225.0\" stroke=\"black\" stroke-width=\"3\" /><line x1=\"2335.08837890625\" x2=\"2335.08837890625\" y1=\"25.0\" y2=\"275.0\" stroke=\"black\" stroke-width=\"3\" /><line x1=\"2434.63748046875\" x2=\"2434.63748046875\" y1=\"25.0\" y2=\"325.0\" stroke=\"black\" stroke-width=\"3\" /><line x1=\"2534.1865820312496\" x2=\"2534.1865820312496\" y1=\"25.0\" y2=\"375.0\" stroke=\"black\" stroke-width=\"3\" /><line x1=\"2633.7356835937494\" x2=\"2633.7356835937494\" y1=\"25.0\" y2=\"425.0\" stroke=\"black\" stroke-width=\"3\" /><line x1=\"2733.284785156249\" x2=\"2733.284785156249\" y1=\"25.0\" y2=\"475.0\" stroke=\"black\" stroke-width=\"3\" /><line x1=\"2832.833886718749\" x2=\"2832.833886718749\" y1=\"25.0\" y2=\"525.0\" stroke=\"black\" stroke-width=\"3\" /><line x1=\"2936.276054687499\" x2=\"2936.276054687499\" y1=\"25.0\" y2=\"575.0\" stroke=\"black\" stroke-width=\"3\" /><line x1=\"3043.6036328124983\" x2=\"3043.6036328124983\" y1=\"25.0\" y2=\"625.0\" stroke=\"black\" stroke-width=\"3\" /><line x1=\"3150.9312109374987\" x2=\"3150.9312109374987\" y1=\"25.0\" y2=\"675.0\" stroke=\"black\" stroke-width=\"3\" /><line x1=\"3258.2664453124985\" x2=\"3258.2664453124985\" y1=\"25.0\" y2=\"725.0\" stroke=\"black\" stroke-width=\"3\" /><line x1=\"3365.6016796874983\" x2=\"3365.6016796874983\" y1=\"25.0\" y2=\"775.0\" stroke=\"black\" stroke-width=\"3\" /><line x1=\"3472.936914062498\" x2=\"3472.936914062498\" y1=\"25.0\" y2=\"825.0\" stroke=\"black\" stroke-width=\"3\" /><rect x=\"10.0\" y=\"5.0\" width=\"53.8178125\" height=\"40\" stroke=\"black\" fill=\"white\" stroke-width=\"0\" /><text x=\"36.90890625\" y=\"25.0\" dominant-baseline=\"middle\" text-anchor=\"middle\" font-size=\"14px\" font-family=\"Arial\">(-1, -1): </text><rect x=\"10.0\" y=\"55.0\" width=\"53.8178125\" height=\"40\" stroke=\"black\" fill=\"white\" stroke-width=\"0\" /><text x=\"36.90890625\" y=\"75.0\" dominant-baseline=\"middle\" text-anchor=\"middle\" font-size=\"14px\" font-family=\"Arial\">(0, 0): </text><rect x=\"10.0\" y=\"105.0\" width=\"53.8178125\" height=\"40\" stroke=\"black\" fill=\"white\" stroke-width=\"0\" /><text x=\"36.90890625\" y=\"125.0\" dominant-baseline=\"middle\" text-anchor=\"middle\" font-size=\"14px\" font-family=\"Arial\">(0, 1): </text><rect x=\"10.0\" y=\"155.0\" width=\"53.8178125\" height=\"40\" stroke=\"black\" fill=\"white\" stroke-width=\"0\" /><text x=\"36.90890625\" y=\"175.0\" dominant-baseline=\"middle\" text-anchor=\"middle\" font-size=\"14px\" font-family=\"Arial\">(0, 2): </text><rect x=\"10.0\" y=\"205.0\" width=\"53.8178125\" height=\"40\" stroke=\"black\" fill=\"white\" stroke-width=\"0\" /><text x=\"36.90890625\" y=\"225.0\" dominant-baseline=\"middle\" text-anchor=\"middle\" font-size=\"14px\" font-family=\"Arial\">(0, 3): </text><rect x=\"10.0\" y=\"255.0\" width=\"53.8178125\" height=\"40\" stroke=\"black\" fill=\"white\" stroke-width=\"0\" /><text x=\"36.90890625\" y=\"275.0\" dominant-baseline=\"middle\" text-anchor=\"middle\" font-size=\"14px\" font-family=\"Arial\">(1, 0): </text><rect x=\"10.0\" y=\"305.0\" width=\"53.8178125\" height=\"40\" stroke=\"black\" fill=\"white\" stroke-width=\"0\" /><text x=\"36.90890625\" y=\"325.0\" dominant-baseline=\"middle\" text-anchor=\"middle\" font-size=\"14px\" font-family=\"Arial\">(1, 1): </text><rect x=\"10.0\" y=\"355.0\" width=\"53.8178125\" height=\"40\" stroke=\"black\" fill=\"white\" stroke-width=\"0\" /><text x=\"36.90890625\" y=\"375.0\" dominant-baseline=\"middle\" text-anchor=\"middle\" font-size=\"14px\" font-family=\"Arial\">(1, 2): </text><rect x=\"10.0\" y=\"405.0\" width=\"53.8178125\" height=\"40\" stroke=\"black\" fill=\"white\" stroke-width=\"0\" /><text x=\"36.90890625\" y=\"425.0\" dominant-baseline=\"middle\" text-anchor=\"middle\" font-size=\"14px\" font-family=\"Arial\">(1, 3): </text><rect x=\"10.0\" y=\"455.0\" width=\"53.8178125\" height=\"40\" stroke=\"black\" fill=\"white\" stroke-width=\"0\" /><text x=\"36.90890625\" y=\"475.0\" dominant-baseline=\"middle\" text-anchor=\"middle\" font-size=\"14px\" font-family=\"Arial\">(2, 0): </text><rect x=\"10.0\" y=\"505.0\" width=\"53.8178125\" height=\"40\" stroke=\"black\" fill=\"white\" stroke-width=\"0\" /><text x=\"36.90890625\" y=\"525.0\" dominant-baseline=\"middle\" text-anchor=\"middle\" font-size=\"14px\" font-family=\"Arial\">(2, 1): </text><rect x=\"10.0\" y=\"555.0\" width=\"53.8178125\" height=\"40\" stroke=\"black\" fill=\"white\" stroke-width=\"0\" /><text x=\"36.90890625\" y=\"575.0\" dominant-baseline=\"middle\" text-anchor=\"middle\" font-size=\"14px\" font-family=\"Arial\">(2, 2): </text><rect x=\"10.0\" y=\"605.0\" width=\"53.8178125\" height=\"40\" stroke=\"black\" fill=\"white\" stroke-width=\"0\" /><text x=\"36.90890625\" y=\"625.0\" dominant-baseline=\"middle\" text-anchor=\"middle\" font-size=\"14px\" font-family=\"Arial\">(2, 3): </text><rect x=\"10.0\" y=\"655.0\" width=\"53.8178125\" height=\"40\" stroke=\"black\" fill=\"white\" stroke-width=\"0\" /><text x=\"36.90890625\" y=\"675.0\" dominant-baseline=\"middle\" text-anchor=\"middle\" font-size=\"14px\" font-family=\"Arial\">(3, 0): </text><rect x=\"10.0\" y=\"705.0\" width=\"53.8178125\" height=\"40\" stroke=\"black\" fill=\"white\" stroke-width=\"0\" /><text x=\"36.90890625\" y=\"725.0\" dominant-baseline=\"middle\" text-anchor=\"middle\" font-size=\"14px\" font-family=\"Arial\">(3, 1): </text><rect x=\"10.0\" y=\"755.0\" width=\"53.8178125\" height=\"40\" stroke=\"black\" fill=\"white\" stroke-width=\"0\" /><text x=\"36.90890625\" y=\"775.0\" dominant-baseline=\"middle\" text-anchor=\"middle\" font-size=\"14px\" font-family=\"Arial\">(3, 2): </text><rect x=\"10.0\" y=\"805.0\" width=\"53.8178125\" height=\"40\" stroke=\"black\" fill=\"white\" stroke-width=\"0\" /><text x=\"36.90890625\" y=\"825.0\" dominant-baseline=\"middle\" text-anchor=\"middle\" font-size=\"14px\" font-family=\"Arial\">(3, 3): </text><rect x=\"83.8178125\" y=\"5.0\" width=\"40\" height=\"40\" stroke=\"black\" fill=\"white\" stroke-width=\"1\" /><text x=\"103.8178125\" y=\"25.0\" dominant-baseline=\"middle\" text-anchor=\"middle\" font-size=\"18px\" font-family=\"Arial\">X</text><rect x=\"143.8178125\" y=\"5.0\" width=\"40\" height=\"40\" stroke=\"black\" fill=\"white\" stroke-width=\"1\" /><text x=\"163.8178125\" y=\"25.0\" dominant-baseline=\"middle\" text-anchor=\"middle\" font-size=\"18px\" font-family=\"Arial\">H</text><rect x=\"203.8178125\" y=\"55.0\" width=\"82.9123828125\" height=\"40\" stroke=\"black\" fill=\"white\" stroke-width=\"1\" /><text x=\"245.27400390625002\" y=\"75.0\" dominant-baseline=\"middle\" text-anchor=\"middle\" font-size=\"14px\" font-family=\"Arial\">XX^(XX1-0)</text><rect x=\"203.8178125\" y=\"5.0\" width=\"82.9123828125\" height=\"40\" stroke=\"black\" fill=\"white\" stroke-width=\"1\" /><text x=\"245.27400390625002\" y=\"25.0\" dominant-baseline=\"middle\" text-anchor=\"middle\" font-size=\"14px\" font-family=\"Arial\">XX</text><rect x=\"306.7301953125\" y=\"105.0\" width=\"82.9123828125\" height=\"40\" stroke=\"black\" fill=\"white\" stroke-width=\"1\" /><text x=\"348.18638671875\" y=\"125.0\" dominant-baseline=\"middle\" text-anchor=\"middle\" font-size=\"14px\" font-family=\"Arial\">XX^(XX1-1)</text><rect x=\"306.7301953125\" y=\"5.0\" width=\"82.9123828125\" height=\"40\" stroke=\"black\" fill=\"white\" stroke-width=\"1\" /><text x=\"348.18638671875\" y=\"25.0\" dominant-baseline=\"middle\" text-anchor=\"middle\" font-size=\"14px\" font-family=\"Arial\">XX</text><rect x=\"409.642578125\" y=\"155.0\" width=\"82.9123828125\" height=\"40\" stroke=\"black\" fill=\"white\" stroke-width=\"1\" /><text x=\"451.09876953125\" y=\"175.0\" dominant-baseline=\"middle\" text-anchor=\"middle\" font-size=\"14px\" font-family=\"Arial\">XX^(XX1-2)</text><rect x=\"409.642578125\" y=\"5.0\" width=\"82.9123828125\" height=\"40\" stroke=\"black\" fill=\"white\" stroke-width=\"1\" /><text x=\"451.09876953125\" y=\"25.0\" dominant-baseline=\"middle\" text-anchor=\"middle\" font-size=\"14px\" font-family=\"Arial\">XX</text><rect x=\"512.5549609375\" y=\"205.0\" width=\"82.9123828125\" height=\"40\" stroke=\"black\" fill=\"white\" stroke-width=\"1\" /><text x=\"554.01115234375\" y=\"225.0\" dominant-baseline=\"middle\" text-anchor=\"middle\" font-size=\"14px\" font-family=\"Arial\">XX^(XX1-3)</text><rect x=\"512.5549609375\" y=\"5.0\" width=\"82.9123828125\" height=\"40\" stroke=\"black\" fill=\"white\" stroke-width=\"1\" /><text x=\"554.01115234375\" y=\"25.0\" dominant-baseline=\"middle\" text-anchor=\"middle\" font-size=\"14px\" font-family=\"Arial\">XX</text><rect x=\"615.46734375\" y=\"255.0\" width=\"82.9123828125\" height=\"40\" stroke=\"black\" fill=\"white\" stroke-width=\"1\" /><text x=\"656.9235351562501\" y=\"275.0\" dominant-baseline=\"middle\" text-anchor=\"middle\" font-size=\"14px\" font-family=\"Arial\">XX^(XX1-4)</text><rect x=\"615.46734375\" y=\"5.0\" width=\"82.9123828125\" height=\"40\" stroke=\"black\" fill=\"white\" stroke-width=\"1\" /><text x=\"656.9235351562501\" y=\"25.0\" dominant-baseline=\"middle\" text-anchor=\"middle\" font-size=\"14px\" font-family=\"Arial\">XX</text><rect x=\"718.3797265625001\" y=\"305.0\" width=\"82.9123828125\" height=\"40\" stroke=\"black\" fill=\"white\" stroke-width=\"1\" /><text x=\"759.8359179687501\" y=\"325.0\" dominant-baseline=\"middle\" text-anchor=\"middle\" font-size=\"14px\" font-family=\"Arial\">XX^(XX1-5)</text><rect x=\"718.3797265625001\" y=\"5.0\" width=\"82.9123828125\" height=\"40\" stroke=\"black\" fill=\"white\" stroke-width=\"1\" /><text x=\"759.8359179687501\" y=\"25.0\" dominant-baseline=\"middle\" text-anchor=\"middle\" font-size=\"14px\" font-family=\"Arial\">XX</text><rect x=\"821.2921093750001\" y=\"355.0\" width=\"82.9123828125\" height=\"40\" stroke=\"black\" fill=\"white\" stroke-width=\"1\" /><text x=\"862.7483007812501\" y=\"375.0\" dominant-baseline=\"middle\" text-anchor=\"middle\" font-size=\"14px\" font-family=\"Arial\">XX^(XX1-6)</text><rect x=\"821.2921093750001\" y=\"5.0\" width=\"82.9123828125\" height=\"40\" stroke=\"black\" fill=\"white\" stroke-width=\"1\" /><text x=\"862.7483007812501\" y=\"25.0\" dominant-baseline=\"middle\" text-anchor=\"middle\" font-size=\"14px\" font-family=\"Arial\">XX</text><rect x=\"924.2044921875001\" y=\"405.0\" width=\"82.9123828125\" height=\"40\" stroke=\"black\" fill=\"white\" stroke-width=\"1\" /><text x=\"965.6606835937502\" y=\"425.0\" dominant-baseline=\"middle\" text-anchor=\"middle\" font-size=\"14px\" font-family=\"Arial\">XX^(XX1-7)</text><rect x=\"924.2044921875001\" y=\"5.0\" width=\"82.9123828125\" height=\"40\" stroke=\"black\" fill=\"white\" stroke-width=\"1\" /><text x=\"965.6606835937502\" y=\"25.0\" dominant-baseline=\"middle\" text-anchor=\"middle\" font-size=\"14px\" font-family=\"Arial\">XX</text><rect x=\"1027.1168750000002\" y=\"455.0\" width=\"82.9123828125\" height=\"40\" stroke=\"black\" fill=\"white\" stroke-width=\"1\" /><text x=\"1068.57306640625\" y=\"475.0\" dominant-baseline=\"middle\" text-anchor=\"middle\" font-size=\"14px\" font-family=\"Arial\">XX^(XX1-8)</text><rect x=\"1027.1168750000002\" y=\"5.0\" width=\"82.9123828125\" height=\"40\" stroke=\"black\" fill=\"white\" stroke-width=\"1\" /><text x=\"1068.57306640625\" y=\"25.0\" dominant-baseline=\"middle\" text-anchor=\"middle\" font-size=\"14px\" font-family=\"Arial\">XX</text><rect x=\"1130.0292578125002\" y=\"505.0\" width=\"82.9123828125\" height=\"40\" stroke=\"black\" fill=\"white\" stroke-width=\"1\" /><text x=\"1171.48544921875\" y=\"525.0\" dominant-baseline=\"middle\" text-anchor=\"middle\" font-size=\"14px\" font-family=\"Arial\">XX^(XX1-9)</text><rect x=\"1130.0292578125002\" y=\"5.0\" width=\"82.9123828125\" height=\"40\" stroke=\"black\" fill=\"white\" stroke-width=\"1\" /><text x=\"1171.48544921875\" y=\"25.0\" dominant-baseline=\"middle\" text-anchor=\"middle\" font-size=\"14px\" font-family=\"Arial\">XX</text><rect x=\"1232.9416406250002\" y=\"555.0\" width=\"90.69851562500001\" height=\"40\" stroke=\"black\" fill=\"white\" stroke-width=\"1\" /><text x=\"1278.2908984375001\" y=\"575.0\" dominant-baseline=\"middle\" text-anchor=\"middle\" font-size=\"14px\" font-family=\"Arial\">XX^(XX1-10)</text><rect x=\"1232.9416406250002\" y=\"5.0\" width=\"90.69851562500001\" height=\"40\" stroke=\"black\" fill=\"white\" stroke-width=\"1\" /><text x=\"1278.2908984375001\" y=\"25.0\" dominant-baseline=\"middle\" text-anchor=\"middle\" font-size=\"14px\" font-family=\"Arial\">XX</text><rect x=\"1343.6401562500002\" y=\"605.0\" width=\"90.683203125\" height=\"40\" stroke=\"black\" fill=\"white\" stroke-width=\"1\" /><text x=\"1388.9817578125003\" y=\"625.0\" dominant-baseline=\"middle\" text-anchor=\"middle\" font-size=\"14px\" font-family=\"Arial\">XX^(XX1-11)</text><rect x=\"1343.6401562500002\" y=\"5.0\" width=\"90.683203125\" height=\"40\" stroke=\"black\" fill=\"white\" stroke-width=\"1\" /><text x=\"1388.9817578125003\" y=\"25.0\" dominant-baseline=\"middle\" text-anchor=\"middle\" font-size=\"14px\" font-family=\"Arial\">XX</text><rect x=\"1454.3233593750003\" y=\"655.0\" width=\"90.69851562500001\" height=\"40\" stroke=\"black\" fill=\"white\" stroke-width=\"1\" /><text x=\"1499.6726171875002\" y=\"675.0\" dominant-baseline=\"middle\" text-anchor=\"middle\" font-size=\"14px\" font-family=\"Arial\">XX^(XX1-12)</text><rect x=\"1454.3233593750003\" y=\"5.0\" width=\"90.69851562500001\" height=\"40\" stroke=\"black\" fill=\"white\" stroke-width=\"1\" /><text x=\"1499.6726171875002\" y=\"25.0\" dominant-baseline=\"middle\" text-anchor=\"middle\" font-size=\"14px\" font-family=\"Arial\">XX</text><rect x=\"1565.0218750000004\" y=\"705.0\" width=\"90.69851562500001\" height=\"40\" stroke=\"black\" fill=\"white\" stroke-width=\"1\" /><text x=\"1610.3711328125003\" y=\"725.0\" dominant-baseline=\"middle\" text-anchor=\"middle\" font-size=\"14px\" font-family=\"Arial\">XX^(XX1-13)</text><rect x=\"1565.0218750000004\" y=\"5.0\" width=\"90.69851562500001\" height=\"40\" stroke=\"black\" fill=\"white\" stroke-width=\"1\" /><text x=\"1610.3711328125003\" y=\"25.0\" dominant-baseline=\"middle\" text-anchor=\"middle\" font-size=\"14px\" font-family=\"Arial\">XX</text><rect x=\"1675.7203906250004\" y=\"755.0\" width=\"90.69851562500001\" height=\"40\" stroke=\"black\" fill=\"white\" stroke-width=\"1\" /><text x=\"1721.0696484375003\" y=\"775.0\" dominant-baseline=\"middle\" text-anchor=\"middle\" font-size=\"14px\" font-family=\"Arial\">XX^(XX1-14)</text><rect x=\"1675.7203906250004\" y=\"5.0\" width=\"90.69851562500001\" height=\"40\" stroke=\"black\" fill=\"white\" stroke-width=\"1\" /><text x=\"1721.0696484375003\" y=\"25.0\" dominant-baseline=\"middle\" text-anchor=\"middle\" font-size=\"14px\" font-family=\"Arial\">XX</text><rect x=\"1786.4189062500004\" y=\"805.0\" width=\"90.69851562500001\" height=\"40\" stroke=\"black\" fill=\"white\" stroke-width=\"1\" /><text x=\"1831.7681640625003\" y=\"825.0\" dominant-baseline=\"middle\" text-anchor=\"middle\" font-size=\"14px\" font-family=\"Arial\">XX^(XX1-15)</text><rect x=\"1786.4189062500004\" y=\"5.0\" width=\"90.69851562500001\" height=\"40\" stroke=\"black\" fill=\"white\" stroke-width=\"1\" /><text x=\"1831.7681640625003\" y=\"25.0\" dominant-baseline=\"middle\" text-anchor=\"middle\" font-size=\"14px\" font-family=\"Arial\">XX</text><rect x=\"1897.1174218750004\" y=\"55.0\" width=\"79.5491015625\" height=\"40\" stroke=\"black\" fill=\"white\" stroke-width=\"1\" /><text x=\"1936.8919726562503\" y=\"75.0\" dominant-baseline=\"middle\" text-anchor=\"middle\" font-size=\"14px\" font-family=\"Arial\">ZZ^(ZZ1-0)</text><rect x=\"1897.1174218750004\" y=\"5.0\" width=\"79.5491015625\" height=\"40\" stroke=\"black\" fill=\"white\" stroke-width=\"1\" /><text x=\"1936.8919726562503\" y=\"25.0\" dominant-baseline=\"middle\" text-anchor=\"middle\" font-size=\"14px\" font-family=\"Arial\">ZZ</text><rect x=\"1996.6665234375005\" y=\"105.0\" width=\"79.5491015625\" height=\"40\" stroke=\"black\" fill=\"white\" stroke-width=\"1\" /><text x=\"2036.4410742187504\" y=\"125.0\" dominant-baseline=\"middle\" text-anchor=\"middle\" font-size=\"14px\" font-family=\"Arial\">ZZ^(ZZ1-1)</text><rect x=\"1996.6665234375005\" y=\"5.0\" width=\"79.5491015625\" height=\"40\" stroke=\"black\" fill=\"white\" stroke-width=\"1\" /><text x=\"2036.4410742187504\" y=\"25.0\" dominant-baseline=\"middle\" text-anchor=\"middle\" font-size=\"14px\" font-family=\"Arial\">ZZ</text><rect x=\"2096.2156250000003\" y=\"155.0\" width=\"79.5491015625\" height=\"40\" stroke=\"black\" fill=\"white\" stroke-width=\"1\" /><text x=\"2135.9901757812504\" y=\"175.0\" dominant-baseline=\"middle\" text-anchor=\"middle\" font-size=\"14px\" font-family=\"Arial\">ZZ^(ZZ1-2)</text><rect x=\"2096.2156250000003\" y=\"5.0\" width=\"79.5491015625\" height=\"40\" stroke=\"black\" fill=\"white\" stroke-width=\"1\" /><text x=\"2135.9901757812504\" y=\"25.0\" dominant-baseline=\"middle\" text-anchor=\"middle\" font-size=\"14px\" font-family=\"Arial\">ZZ</text><rect x=\"2195.7647265625\" y=\"205.0\" width=\"79.5491015625\" height=\"40\" stroke=\"black\" fill=\"white\" stroke-width=\"1\" /><text x=\"2235.53927734375\" y=\"225.0\" dominant-baseline=\"middle\" text-anchor=\"middle\" font-size=\"14px\" font-family=\"Arial\">ZZ^(ZZ1-3)</text><rect x=\"2195.7647265625\" y=\"5.0\" width=\"79.5491015625\" height=\"40\" stroke=\"black\" fill=\"white\" stroke-width=\"1\" /><text x=\"2235.53927734375\" y=\"25.0\" dominant-baseline=\"middle\" text-anchor=\"middle\" font-size=\"14px\" font-family=\"Arial\">ZZ</text><rect x=\"2295.313828125\" y=\"255.0\" width=\"79.5491015625\" height=\"40\" stroke=\"black\" fill=\"white\" stroke-width=\"1\" /><text x=\"2335.08837890625\" y=\"275.0\" dominant-baseline=\"middle\" text-anchor=\"middle\" font-size=\"14px\" font-family=\"Arial\">ZZ^(ZZ1-4)</text><rect x=\"2295.313828125\" y=\"5.0\" width=\"79.5491015625\" height=\"40\" stroke=\"black\" fill=\"white\" stroke-width=\"1\" /><text x=\"2335.08837890625\" y=\"25.0\" dominant-baseline=\"middle\" text-anchor=\"middle\" font-size=\"14px\" font-family=\"Arial\">ZZ</text><rect x=\"2394.8629296874997\" y=\"305.0\" width=\"79.5491015625\" height=\"40\" stroke=\"black\" fill=\"white\" stroke-width=\"1\" /><text x=\"2434.63748046875\" y=\"325.0\" dominant-baseline=\"middle\" text-anchor=\"middle\" font-size=\"14px\" font-family=\"Arial\">ZZ^(ZZ1-5)</text><rect x=\"2394.8629296874997\" y=\"5.0\" width=\"79.5491015625\" height=\"40\" stroke=\"black\" fill=\"white\" stroke-width=\"1\" /><text x=\"2434.63748046875\" y=\"25.0\" dominant-baseline=\"middle\" text-anchor=\"middle\" font-size=\"14px\" font-family=\"Arial\">ZZ</text><rect x=\"2494.4120312499995\" y=\"355.0\" width=\"79.5491015625\" height=\"40\" stroke=\"black\" fill=\"white\" stroke-width=\"1\" /><text x=\"2534.1865820312496\" y=\"375.0\" dominant-baseline=\"middle\" text-anchor=\"middle\" font-size=\"14px\" font-family=\"Arial\">ZZ^(ZZ1-6)</text><rect x=\"2494.4120312499995\" y=\"5.0\" width=\"79.5491015625\" height=\"40\" stroke=\"black\" fill=\"white\" stroke-width=\"1\" /><text x=\"2534.1865820312496\" y=\"25.0\" dominant-baseline=\"middle\" text-anchor=\"middle\" font-size=\"14px\" font-family=\"Arial\">ZZ</text><rect x=\"2593.9611328124993\" y=\"405.0\" width=\"79.5491015625\" height=\"40\" stroke=\"black\" fill=\"white\" stroke-width=\"1\" /><text x=\"2633.7356835937494\" y=\"425.0\" dominant-baseline=\"middle\" text-anchor=\"middle\" font-size=\"14px\" font-family=\"Arial\">ZZ^(ZZ1-7)</text><rect x=\"2593.9611328124993\" y=\"5.0\" width=\"79.5491015625\" height=\"40\" stroke=\"black\" fill=\"white\" stroke-width=\"1\" /><text x=\"2633.7356835937494\" y=\"25.0\" dominant-baseline=\"middle\" text-anchor=\"middle\" font-size=\"14px\" font-family=\"Arial\">ZZ</text><rect x=\"2693.510234374999\" y=\"455.0\" width=\"79.5491015625\" height=\"40\" stroke=\"black\" fill=\"white\" stroke-width=\"1\" /><text x=\"2733.284785156249\" y=\"475.0\" dominant-baseline=\"middle\" text-anchor=\"middle\" font-size=\"14px\" font-family=\"Arial\">ZZ^(ZZ1-8)</text><rect x=\"2693.510234374999\" y=\"5.0\" width=\"79.5491015625\" height=\"40\" stroke=\"black\" fill=\"white\" stroke-width=\"1\" /><text x=\"2733.284785156249\" y=\"25.0\" dominant-baseline=\"middle\" text-anchor=\"middle\" font-size=\"14px\" font-family=\"Arial\">ZZ</text><rect x=\"2793.059335937499\" y=\"505.0\" width=\"79.5491015625\" height=\"40\" stroke=\"black\" fill=\"white\" stroke-width=\"1\" /><text x=\"2832.833886718749\" y=\"525.0\" dominant-baseline=\"middle\" text-anchor=\"middle\" font-size=\"14px\" font-family=\"Arial\">ZZ^(ZZ1-9)</text><rect x=\"2793.059335937499\" y=\"5.0\" width=\"79.5491015625\" height=\"40\" stroke=\"black\" fill=\"white\" stroke-width=\"1\" /><text x=\"2832.833886718749\" y=\"25.0\" dominant-baseline=\"middle\" text-anchor=\"middle\" font-size=\"14px\" font-family=\"Arial\">ZZ</text><rect x=\"2892.6084374999987\" y=\"555.0\" width=\"87.33523437500001\" height=\"40\" stroke=\"black\" fill=\"white\" stroke-width=\"1\" /><text x=\"2936.276054687499\" y=\"575.0\" dominant-baseline=\"middle\" text-anchor=\"middle\" font-size=\"14px\" font-family=\"Arial\">ZZ^(ZZ1-10)</text><rect x=\"2892.6084374999987\" y=\"5.0\" width=\"87.33523437500001\" height=\"40\" stroke=\"black\" fill=\"white\" stroke-width=\"1\" /><text x=\"2936.276054687499\" y=\"25.0\" dominant-baseline=\"middle\" text-anchor=\"middle\" font-size=\"14px\" font-family=\"Arial\">ZZ</text><rect x=\"2999.9436718749985\" y=\"605.0\" width=\"87.319921875\" height=\"40\" stroke=\"black\" fill=\"white\" stroke-width=\"1\" /><text x=\"3043.6036328124983\" y=\"625.0\" dominant-baseline=\"middle\" text-anchor=\"middle\" font-size=\"14px\" font-family=\"Arial\">ZZ^(ZZ1-11)</text><rect x=\"2999.9436718749985\" y=\"5.0\" width=\"87.319921875\" height=\"40\" stroke=\"black\" fill=\"white\" stroke-width=\"1\" /><text x=\"3043.6036328124983\" y=\"25.0\" dominant-baseline=\"middle\" text-anchor=\"middle\" font-size=\"14px\" font-family=\"Arial\">ZZ</text><rect x=\"3107.2635937499986\" y=\"655.0\" width=\"87.33523437500001\" height=\"40\" stroke=\"black\" fill=\"white\" stroke-width=\"1\" /><text x=\"3150.9312109374987\" y=\"675.0\" dominant-baseline=\"middle\" text-anchor=\"middle\" font-size=\"14px\" font-family=\"Arial\">ZZ^(ZZ1-12)</text><rect x=\"3107.2635937499986\" y=\"5.0\" width=\"87.33523437500001\" height=\"40\" stroke=\"black\" fill=\"white\" stroke-width=\"1\" /><text x=\"3150.9312109374987\" y=\"25.0\" dominant-baseline=\"middle\" text-anchor=\"middle\" font-size=\"14px\" font-family=\"Arial\">ZZ</text><rect x=\"3214.5988281249984\" y=\"705.0\" width=\"87.33523437500001\" height=\"40\" stroke=\"black\" fill=\"white\" stroke-width=\"1\" /><text x=\"3258.2664453124985\" y=\"725.0\" dominant-baseline=\"middle\" text-anchor=\"middle\" font-size=\"14px\" font-family=\"Arial\">ZZ^(ZZ1-13)</text><rect x=\"3214.5988281249984\" y=\"5.0\" width=\"87.33523437500001\" height=\"40\" stroke=\"black\" fill=\"white\" stroke-width=\"1\" /><text x=\"3258.2664453124985\" y=\"25.0\" dominant-baseline=\"middle\" text-anchor=\"middle\" font-size=\"14px\" font-family=\"Arial\">ZZ</text><rect x=\"3321.934062499998\" y=\"755.0\" width=\"87.33523437500001\" height=\"40\" stroke=\"black\" fill=\"white\" stroke-width=\"1\" /><text x=\"3365.6016796874983\" y=\"775.0\" dominant-baseline=\"middle\" text-anchor=\"middle\" font-size=\"14px\" font-family=\"Arial\">ZZ^(ZZ1-14)</text><rect x=\"3321.934062499998\" y=\"5.0\" width=\"87.33523437500001\" height=\"40\" stroke=\"black\" fill=\"white\" stroke-width=\"1\" /><text x=\"3365.6016796874983\" y=\"25.0\" dominant-baseline=\"middle\" text-anchor=\"middle\" font-size=\"14px\" font-family=\"Arial\">ZZ</text><rect x=\"3429.269296874998\" y=\"805.0\" width=\"87.33523437500001\" height=\"40\" stroke=\"black\" fill=\"white\" stroke-width=\"1\" /><text x=\"3472.936914062498\" y=\"825.0\" dominant-baseline=\"middle\" text-anchor=\"middle\" font-size=\"14px\" font-family=\"Arial\">ZZ^(ZZ1-15)</text><rect x=\"3429.269296874998\" y=\"5.0\" width=\"87.33523437500001\" height=\"40\" stroke=\"black\" fill=\"white\" stroke-width=\"1\" /><text x=\"3472.936914062498\" y=\"25.0\" dominant-baseline=\"middle\" text-anchor=\"middle\" font-size=\"14px\" font-family=\"Arial\">ZZ</text><rect x=\"3536.6045312499978\" y=\"5.0\" width=\"40\" height=\"40\" stroke=\"black\" fill=\"white\" stroke-width=\"1\" /><text x=\"3556.6045312499978\" y=\"25.0\" dominant-baseline=\"middle\" text-anchor=\"middle\" font-size=\"18px\" font-family=\"Arial\">H</text></svg>"
      ],
      "text/plain": [
       "<cirq.contrib.svg.svg.SVGCircuit at 0x7f8da16c4e10>"
      ]
     },
     "execution_count": 6,
     "metadata": {},
     "output_type": "execute_result"
    }
   ],
   "source": [
    "# Continue defining methods for building qNN model architecture\n",
    "\n",
    "def create_quantum_model():\n",
    "# Create circuit representation of a simple qNN model with corresponding readout operation (aka output neuron)\n",
    "    data_qbits = cirq.GridQubit.rect(4, 4) # qubit grid comprising image data\n",
    "    readout_qbit = cirq.GridQubit(-1, -1) # single output qubit positioned at (-1, -1) on circuit grid\n",
    "    circuit = cirq.Circuit()\n",
    "    \n",
    "    # preprocess quantum state of readout qubit by applying gate operations \n",
    "    circuit.append(cirq.X(readout_qbit)) # pauli X gate operation on readout\n",
    "    circuit.append(cirq.H(readout_qbit)) # Hadamard gate operation on readout\n",
    "    \n",
    "    # initialize circuit layer builder with corresponding data and output qubits for this qNN model\n",
    "    build = CircLayerBuilder(data_qbits = data_qbits, readout_qbit = readout_qbit)\n",
    "    \n",
    "    # add layers to qNN model circuit (selecting XX, ZZ gates mentioned in Farhi et al)\n",
    "    build.add_layer(circuit, cirq.XX, \"XX1\") # apply XX gate on data qubits & readout qubit\n",
    "    build.add_layer(circuit, cirq.ZZ, \"ZZ1\") # apply ZZ gate on data qubits & readout qubit\n",
    "    \n",
    "    # post-process readout qubit by applying Hadamard gate (quantum superposition of states)\n",
    "    circuit.append(cirq.H(readout_qbit))\n",
    "    return circuit, cirq.Z(readout_qbit) # return circuit for qNN model and measurement for resultant qubit\n",
    "\n",
    "\n",
    "# instantiate basic qNN model and corresponding readout qubit (aka \"output neuron\")\n",
    "model_circ, model_result = create_quantum_model()\n",
    "\n",
    "# wrap qNN model circuit in TensorFlow Quantum keras model\n",
    "# input layer for tf.keras.Sequential will be given qubit representation of image data contained in model_circ\n",
    "# and output layer will return resultant qubit given by model_result\n",
    "model = tf.keras.Sequential([tf.keras.layers.Input(shape=(), dtype = tf.string), tfq.layers.PQC(model_circ, model_result)])\n",
    "print(\"\\n==================== DISPLAYING qNN MODEL CIRCUIT  ====================\")\n",
    "SVGCircuit(model_circ)"
   ]
  },
  {
   "cell_type": "markdown",
   "metadata": {},
   "source": [
    "For this binary classification problem, Farhi et al suggests that the model reports its predictions as the expectation obtained from measuring the state of the readout qubit contained in a parametrized quantum circuit. In this case, our values range in the interval \\[-1, 1\\] (-1 being associated with the binary label \"False\", representing category \"6\", and 1 being associated with the binary label \"True\", representing category \"3\"). For this reason, the authors of this TensorFlow Quantum tutorial propose using the hinge loss function for this model as the most natural measure of performance. \n",
    "\n",
    "To appropriately incorporate a hinge loss function, we must first convert our labels `y_train_rmcon` and `y_test_rmcon` from boolean values to values ranging in \\[-1, 1\\], then redefine a new hinge accuracy function that knows how to interpret this new range of values."
   ]
  },
  {
   "cell_type": "code",
   "execution_count": 7,
   "metadata": {},
   "outputs": [],
   "source": [
    "# Data preprocessing and custom method definitions for using hinge loss for qNN\n",
    "\n",
    "def hinge_accuracy(y_true, y_pred):\n",
    "# Custom definiton of hinge accuracy used to report performance of qNN's predictions y_pred \n",
    "# on data set with true labels y_true\n",
    "    # convert labels in y_true and y_pred to boolean values satisfying condition: y_true, y_pred > 0.0\n",
    "    y_true = tf.squeeze(y_true) > 0.0 # tf.squeeze return same tensor with size 1 dimensions removed\n",
    "    y_pred = tf.squeeze(y_pred) > 0.0 # tf.squeeze return same tensor with size 1 dimensions removed\n",
    "    result = tf.cast(y_true == y_pred, tf.float32) # recast resulting accuracy as tensor containing numerical values\n",
    "    return tf.reduce_mean(result) # return average of the values in result\n",
    "\n",
    "# preprocess labels by converting values from boolean to range [-1, 1]\n",
    "y_train_hinge = 2.0*y_train_rmcon - 1.0\n",
    "y_test_hinge = 2.0*y_test - 1.0"
   ]
  },
  {
   "cell_type": "markdown",
   "metadata": {},
   "source": [
    "The last step to complete before finally compiling our qNN model involves wrapping the quantum model circuit we defined above in a TensorFlow Quantum model. We define our model using the `tf.keras.Sequential` class, for which we define an input layer that accepts a qubit representation of the image data contained in `model_circ`, and an output layer that returns the resultant (readout) qubit given by `model_result`."
   ]
  },
  {
   "cell_type": "code",
   "execution_count": 8,
   "metadata": {},
   "outputs": [
    {
     "name": "stdout",
     "output_type": "stream",
     "text": [
      "Model: \"sequential\"\n",
      "_________________________________________________________________\n",
      "Layer (type)                 Output Shape              Param #   \n",
      "=================================================================\n",
      "pqc (PQC)                    (None, 1)                 32        \n",
      "=================================================================\n",
      "Total params: 32\n",
      "Trainable params: 32\n",
      "Non-trainable params: 0\n",
      "_________________________________________________________________\n",
      "None\n"
     ]
    }
   ],
   "source": [
    "# qNN model compilation & summary\n",
    "\n",
    "# compile final qNN model\n",
    "model.compile(loss=tf.keras.losses.Hinge(), optimizer=tf.keras.optimizers.Adam(),\n",
    "    metrics=[hinge_accuracy])\n",
    "\n",
    "# display model summary\n",
    "print(model.summary())"
   ]
  },
  {
   "cell_type": "code",
   "execution_count": 12,
   "metadata": {
    "scrolled": false
   },
   "outputs": [
    {
     "name": "stdout",
     "output_type": "stream",
     "text": [
      "\n",
      "==================== FITTING qNN ON 4x4 PIXEL MNIST DATA  ====================\n",
      "Epoch 1/10\n",
      "324/324 [==============================] - 687s 2s/step - loss: 0.3442 - hinge_accuracy: 0.8957 - val_loss: 0.3357 - val_hinge_accuracy: 0.9078\n",
      "Epoch 2/10\n",
      "324/324 [==============================] - 667s 2s/step - loss: 0.3441 - hinge_accuracy: 0.8946 - val_loss: 0.3342 - val_hinge_accuracy: 0.9073\n",
      "Epoch 3/10\n",
      "324/324 [==============================] - 672s 2s/step - loss: 0.3438 - hinge_accuracy: 0.8917 - val_loss: 0.3361 - val_hinge_accuracy: 0.9078\n",
      "Epoch 4/10\n",
      "324/324 [==============================] - 672s 2s/step - loss: 0.3435 - hinge_accuracy: 0.8943 - val_loss: 0.3368 - val_hinge_accuracy: 0.9083\n",
      "Epoch 5/10\n",
      "324/324 [==============================] - 654s 2s/step - loss: 0.3434 - hinge_accuracy: 0.8914 - val_loss: 0.3324 - val_hinge_accuracy: 0.9073\n",
      "Epoch 6/10\n",
      "324/324 [==============================] - 660s 2s/step - loss: 0.3435 - hinge_accuracy: 0.8956 - val_loss: 0.3358 - val_hinge_accuracy: 0.9083\n",
      "Epoch 7/10\n",
      "324/324 [==============================] - 654s 2s/step - loss: 0.3430 - hinge_accuracy: 0.8940 - val_loss: 0.3329 - val_hinge_accuracy: 0.9078\n",
      "Epoch 8/10\n",
      "324/324 [==============================] - 658s 2s/step - loss: 0.3426 - hinge_accuracy: 0.8964 - val_loss: 0.3331 - val_hinge_accuracy: 0.9078\n",
      "Epoch 9/10\n",
      "324/324 [==============================] - 654s 2s/step - loss: 0.3424 - hinge_accuracy: 0.8909 - val_loss: 0.3368 - val_hinge_accuracy: 0.9088\n",
      "Epoch 10/10\n",
      "324/324 [==============================] - 650s 2s/step - loss: 0.3425 - hinge_accuracy: 0.8937 - val_loss: 0.3403 - val_hinge_accuracy: 0.9088\n",
      "62/62 [==============================] - 16s 251ms/step - loss: 0.3403 - hinge_accuracy: 0.9088\n"
     ]
    }
   ],
   "source": [
    "# train qNN model\n",
    "\n",
    "epochs = 10\n",
    "batch = 32\n",
    "num_examples = len(x_train_tfq) # subject to change based on training time\n",
    "\n",
    "# use subsets of training set for qNN for variable wait times for training\n",
    "x_train_qNNsub = x_train_tfq[:num_examples]\n",
    "y_train_qNNsub = y_train_hinge[:num_examples]\n",
    "\n",
    "print(\"\\n==================== FITTING qNN ON 4x4 PIXEL MNIST DATA  ====================\")\n",
    "# obtain training history for qNN\n",
    "qnn_hist = model.fit(x_train_qNNsub, y_train_qNNsub, batch_size=32, epochs=epochs,\n",
    "      verbose=1, validation_data=(x_test_tfq, y_test_hinge))\n",
    "\n",
    "# obtain test results for qNN\n",
    "qnn_results = model.evaluate(x_test_tfq, y_test)"
   ]
  },
  {
   "cell_type": "code",
   "execution_count": 13,
   "metadata": {},
   "outputs": [
    {
     "name": "stdout",
     "output_type": "stream",
     "text": [
      "0.9087701439857483\n",
      "[0.34419289231300354, 0.3440631330013275, 0.3438284993171692, 0.34346142411231995, 0.34341877698898315, 0.34348756074905396, 0.34297600388526917, 0.3425918221473694, 0.3423813283443451, 0.34249237179756165]\n",
      "[0.33568185567855835, 0.33421334624290466, 0.33614206314086914, 0.3367970585823059, 0.3324228525161743, 0.33577266335487366, 0.33289259672164917, 0.33313053846359253, 0.33681902289390564, 0.34032705426216125]\n",
      "[0.8957368731498718, 0.8945794701576233, 0.891685962677002, 0.8942901492118835, 0.8913965821266174, 0.8956404328346252, 0.894000768661499, 0.8964120149612427, 0.8909143805503845, 0.8937114477157593]\n",
      "[0.9077621102333069, 0.9072580933570862, 0.9077621102333069, 0.9082661271095276, 0.9072580933570862, 0.9082661271095276, 0.9077621102333069, 0.9077621102333069, 0.9087701439857483, 0.9087701439857483]\n"
     ]
    }
   ],
   "source": [
    "print(qnn_results[1])\n",
    "print(qnn_hist.history['loss'])\n",
    "print(qnn_hist.history['val_loss'])\n",
    "print(qnn_hist.history['hinge_accuracy'])\n",
    "print(qnn_hist.history['val_hinge_accuracy'])"
   ]
  },
  {
   "cell_type": "code",
   "execution_count": 25,
   "metadata": {},
   "outputs": [
    {
     "data": {
      "image/png": "[encoded data removed]",
      "text/plain": [
       "<Figure size 1152x576 with 60 Axes>"
      ]
     },
     "metadata": {
      "needs_background": "light"
     },
     "output_type": "display_data"
    }
   ],
   "source": [
    "# show visual examples of sampled predictions\n",
    "def show_results(model):\n",
    "    rows = 4\n",
    "    columns = 15\n",
    "    sliced = rows*columns\n",
    "    predicted = model.predict(x_test_tfq[:sliced])\n",
    "\n",
    "    plt.figure(figsize=(16,8))\n",
    "    for i in range(sliced):\n",
    "        plt.subplot(rows, columns, i+1)\n",
    "        plt.imshow(x_test_small[i, :, :, 0], cmap='gray', vmin=0.0, vmax=1.0)\n",
    "        color = 'black' if y_test[i] == (math.ceil(predicted[i]) > 0) else 'red'\n",
    "        res = 6\n",
    "        if math.ceil(predicted[i]) > 0:\n",
    "            res = 3\n",
    "        plt.text(0, 0, res, color=color, \n",
    "                 bbox=dict(facecolor='white', alpha=1))\n",
    "        plt.axis('off')\n",
    "\n",
    "#show_results(model)\n",
    "show_results(model)"
   ]
  },
  {
   "cell_type": "markdown",
   "metadata": {},
   "source": [
    "## Comparing qNN Performance with that of a Classical Model"
   ]
  },
  {
   "cell_type": "code",
   "execution_count": null,
   "metadata": {},
   "outputs": [],
   "source": [
    "# Define methods returning classical convolutional neural networks (cNNs)\n",
    "\n",
    "def create_classical_cNN():\n",
    "# Simple cNN for 3-6 binary classification problem based off of \n",
    "#keras example model: https://keras.io/examples/vision/mnist_convnet/\n",
    "\n",
    "# Model comprises ~1.2M total weights;\n",
    "# Input layer accepts image data represented as 28x28 pixel grid\n",
    "\n",
    "    model = tf.keras.Sequential([tf.keras.layers.Conv2D(32, kernel_size=(3, 3), \n",
    "                                                        activation='relu', \n",
    "                                                        input_shape=(28,28,1)),\n",
    "                                tf.keras.layers.Conv2D(64, kernel_size=(3, 3), activation='relu'),\n",
    "                                tf.keras.layers.MaxPooling2D(pool_size=(2, 2)),\n",
    "                                tf.keras.layers.Dropout(0.25),\n",
    "                                tf.keras.layers.Flatten(),\n",
    "                                tf.keras.layers.Dense(128, activation='relu'), \n",
    "                                tf.keras.layers.Dropout(0.5),\n",
    "                                tf.keras.layers.Dense(1)])\n",
    "    return model\n",
    "\n",
    "def create_fair_cNN():\n",
    "# Simple cNN for 3-6 binary classification problem based off of \n",
    "#keras example model: https://keras.io/examples/vision/mnist_convnet/\n",
    "\n",
    "# Model comprises ~1.2M total weights;\n",
    "# Input layer accepts image data represented as 4x4 pixel grid\n",
    "\n",
    "    model = tf.keras.Sequential([tf.keras.layers.Flatten(input_shape=(4,4,1)),\n",
    "                           tf.keras.layers.Dense(2, activation='relu'), \n",
    "                          tf.keras.layers.Dense(1)])\n",
    "    return model\n",
    "\n",
    "\n",
    "# instantiate and train 2 cNNs on 3-6 binary classification problem: one standard/\"optimized\" cNN\n",
    "# comprising 1.2M weights that accepts full 28x28 pixel image, and one with \n",
    "# comparable complexity to our qNN model (4x4 pixel input, 37 weights)\n",
    "\n",
    "model_standard = create_classical_cNN()\n",
    "model_fair = create_fair_cNN()\n",
    "\n",
    "# compile models \n",
    "model_standard.compile(loss=tf.keras.losses.BinaryCrossentropy(from_logits=True),\n",
    "              optimizer=tf.keras.optimizers.Adam(),\n",
    "              metrics=['accuracy'])\n",
    "model_fair.compile(loss=tf.keras.losses.BinaryCrossentropy(from_logits=True),\n",
    "              optimizer=tf.keras.optimizers.Adam(),\n",
    "              metrics=['accuracy'])\n",
    "\n",
    "# display model summaries \n",
    "print(\"\\n==================== DISPLAYING MODEL SUMMARY: STANDARD cNN ====================\")\n",
    "model_standard.summary()\n",
    "print(\"\\n==================== DISPLAYING MODEL SUMMARY: FAIR cNN ====================\")\n",
    "model_fair.summary()\n",
    "\n",
    "# fit models \n",
    "print(\"\\n==================== FITTING STANDARD cNN ON 28x28 PIXEL MNIST DATA  ====================\")\n",
    "cnn_hist = model_standard.fit(x_train, y_train, batch_size=128, epochs=25, verbose=1,\n",
    "          validation_data=(x_test, y_test))\n",
    "\n",
    "cnn_results = model_standard.evaluate(x_test, y_test)\n",
    "\n",
    "print(\"\\n==================== FITTING FAIR cNN ON 4x4 PIXEL MNIST DATA  ====================\")\n",
    "fair_cnn_hist = model_fair.fit(x_train_small, y_train, batch_size=128, epochs=25, verbose=1,\n",
    "          validation_data=(x_test_small, y_test))\n",
    "\n",
    "fair_cnn_results = model_fair.evaluate(x_test_small, y_test)\n"
   ]
  },
  {
   "cell_type": "code",
   "execution_count": null,
   "metadata": {},
   "outputs": [],
   "source": [
    "# generate figures for performance comparison between models\n",
    "\n",
    "sns.barplot([\"qNN\", \"Standard cNN\", \"Fair cNN\"],[qnn_results[1], cnn_results[1], fair_cnn_results[1]])\n",
    "\n",
    "plt.figure()\n",
    "plt.xlabel('Epochs')\n",
    "plt.ylabel('Loss')\n",
    "plt.title(\"Prediction Loss per Epoch\")\n",
    "plt.plot(qnn_hist.history['loss'])\n",
    "plt.plot(qnn_hist.history['val_loss'])\n",
    "plt.plot(cnn_hist.history['loss'])\n",
    "plt.plot(cnn_hist.history['val_loss'])\n",
    "plt.plot(fair_cnn_hist.history['loss'])\n",
    "plt.plot(fair_cnn_hist.history['val_loss'])\n",
    "plt.legend(['qNN Training', 'qNN Validation', 'Standard cNN Training', 'Standard cNN Validation', 'Fair cNN Validation', 'Fair cNN Validation'])\n",
    "\n",
    "plt.figure()\n",
    "plt.xlabel('Epochs')\n",
    "plt.ylabel('Accuracy')\n",
    "plt.title(\"Prediction Accuracy per Epoch\")\n",
    "plt.plot(qnn_hist.history['hinge_accuracy'])\n",
    "plt.plot(qnn_hist.history['val_hinge_accuracy'])\n",
    "plt.plot(cnn_hist.history['accuracy'])\n",
    "plt.plot(cnn_hist.history['val_accuracy'])\n",
    "plt.plot(fair_cnn_hist.history['accuracy'])\n",
    "plt.plot(fair_cnn_hist.history['val_accuracy'])\n",
    "plt.legend(['qNN Training', 'qNN Validation', 'Standard cNN Training', 'Standard cNN Validation', 'Fair cNN Validation', 'Fair cNN Validation'])\n"
   ]
  },
  {
   "cell_type": "code",
   "execution_count": null,
   "metadata": {},
   "outputs": [],
   "source": []
  }
 ],
 "metadata": {
  "kernelspec": {
   "display_name": "Python 3",
   "language": "python",
   "name": "python3"
  },
  "language_info": {
   "codemirror_mode": {
    "name": "ipython",
    "version": 3
   },
   "file_extension": ".py",
   "mimetype": "text/x-python",
   "name": "python",
   "nbconvert_exporter": "python",
   "pygments_lexer": "ipython3",
   "version": "3.6.6"
  }
 },
 "nbformat": 4,
 "nbformat_minor": 2
}
